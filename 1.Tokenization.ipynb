{
 "cells": [
  {
   "cell_type": "code",
   "execution_count": 1,
   "id": "d7c4f472-9cc0-473e-a38d-3cd1b6607226",
   "metadata": {
    "tags": []
   },
   "outputs": [
    {
     "name": "stdout",
     "output_type": "stream",
     "text": [
      "Requirement already satisfied: nltk in c:\\users\\mazed\\anaconda3\\lib\\site-packages (3.7)\n",
      "Requirement already satisfied: click in c:\\users\\mazed\\anaconda3\\lib\\site-packages (from nltk) (8.0.4)\n",
      "Requirement already satisfied: joblib in c:\\users\\mazed\\anaconda3\\lib\\site-packages (from nltk) (1.2.0)\n",
      "Requirement already satisfied: regex>=2021.8.3 in c:\\users\\mazed\\anaconda3\\lib\\site-packages (from nltk) (2022.7.9)\n",
      "Requirement already satisfied: tqdm in c:\\users\\mazed\\anaconda3\\lib\\site-packages (from nltk) (4.65.0)\n",
      "Requirement already satisfied: colorama in c:\\users\\mazed\\anaconda3\\lib\\site-packages (from click->nltk) (0.4.6)\n"
     ]
    }
   ],
   "source": [
    "!pip install nltk"
   ]
  },
  {
   "cell_type": "code",
   "execution_count": 4,
   "id": "105c3385-41de-4218-aa90-ae633bebb93c",
   "metadata": {
    "tags": []
   },
   "outputs": [],
   "source": [
    "corpus=\"\"\"I'm studying NLP. Have learned about tokenization. In this notebook, I'm gonna practice those concepts.\"\"\""
   ]
  },
  {
   "cell_type": "code",
   "execution_count": 5,
   "id": "82b8f8da-6e76-43db-992d-c4638da1d787",
   "metadata": {
    "tags": []
   },
   "outputs": [
    {
     "data": {
      "text/plain": [
       "\"I'm studying NLP. Have learned about tokenization. In this notebook, I'm gonna practice those concepts.\""
      ]
     },
     "execution_count": 5,
     "metadata": {},
     "output_type": "execute_result"
    }
   ],
   "source": [
    "corpus"
   ]
  },
  {
   "cell_type": "markdown",
   "id": "d30770b3-d888-44cc-b015-e714e34d90c1",
   "metadata": {},
   "source": [
    "### Corpus to Sentences"
   ]
  },
  {
   "cell_type": "code",
   "execution_count": 12,
   "id": "d3e75d35-8295-47d4-be2e-7b527de4fb39",
   "metadata": {
    "tags": []
   },
   "outputs": [],
   "source": [
    "import nltk\n",
    "from nltk.tokenize import sent_tokenize"
   ]
  },
  {
   "cell_type": "code",
   "execution_count": 15,
   "id": "df0591ad-489a-4ee9-8032-62be2b10fff9",
   "metadata": {
    "tags": []
   },
   "outputs": [
    {
     "name": "stderr",
     "output_type": "stream",
     "text": [
      "[nltk_data] Downloading package punkt to\n",
      "[nltk_data]     C:\\Users\\Mazed\\AppData\\Roaming\\nltk_data...\n",
      "[nltk_data]   Unzipping tokenizers\\punkt.zip.\n"
     ]
    },
    {
     "data": {
      "text/plain": [
       "True"
      ]
     },
     "execution_count": 15,
     "metadata": {},
     "output_type": "execute_result"
    }
   ],
   "source": [
    "nltk.download('punkt')"
   ]
  },
  {
   "cell_type": "code",
   "execution_count": 18,
   "id": "0e066eac-b752-4f44-9bee-763626869075",
   "metadata": {
    "tags": []
   },
   "outputs": [],
   "source": [
    "sentences=sent_tokenize(corpus)"
   ]
  },
  {
   "cell_type": "code",
   "execution_count": 19,
   "id": "be57a5c1-dd53-46df-a817-e7faf77b2441",
   "metadata": {
    "tags": []
   },
   "outputs": [
    {
     "data": {
      "text/plain": [
       "[\"I'm studying NLP.\",\n",
       " 'Have learned about tokenization.',\n",
       " \"In this notebook, I'm gonna practice those concepts.\"]"
      ]
     },
     "execution_count": 19,
     "metadata": {},
     "output_type": "execute_result"
    }
   ],
   "source": [
    "sentences"
   ]
  },
  {
   "cell_type": "markdown",
   "id": "e7166db3-9fb9-4f72-9294-fdaafed626f5",
   "metadata": {},
   "source": [
    "### Corpus to Words"
   ]
  },
  {
   "cell_type": "code",
   "execution_count": 20,
   "id": "da7e57be-8582-4c67-bae0-818704cfedbe",
   "metadata": {
    "tags": []
   },
   "outputs": [],
   "source": [
    "from nltk.tokenize import word_tokenize"
   ]
  },
  {
   "cell_type": "code",
   "execution_count": 21,
   "id": "410e4174-22ab-4cce-a492-f8b19301750f",
   "metadata": {
    "tags": []
   },
   "outputs": [],
   "source": [
    "words= word_tokenize(corpus)"
   ]
  },
  {
   "cell_type": "code",
   "execution_count": 22,
   "id": "5b1ebfd7-15e9-46ca-b224-8e22639658f3",
   "metadata": {
    "tags": []
   },
   "outputs": [
    {
     "data": {
      "text/plain": [
       "['I',\n",
       " \"'m\",\n",
       " 'studying',\n",
       " 'NLP',\n",
       " '.',\n",
       " 'Have',\n",
       " 'learned',\n",
       " 'about',\n",
       " 'tokenization',\n",
       " '.',\n",
       " 'In',\n",
       " 'this',\n",
       " 'notebook',\n",
       " ',',\n",
       " 'I',\n",
       " \"'m\",\n",
       " 'gon',\n",
       " 'na',\n",
       " 'practice',\n",
       " 'those',\n",
       " 'concepts',\n",
       " '.']"
      ]
     },
     "execution_count": 22,
     "metadata": {},
     "output_type": "execute_result"
    }
   ],
   "source": [
    "words"
   ]
  },
  {
   "cell_type": "code",
   "execution_count": 23,
   "id": "5cf5804d-c2a1-4044-b7b4-948b9034e1ce",
   "metadata": {
    "tags": []
   },
   "outputs": [],
   "source": [
    "# another word tokenizer\n",
    "from nltk.tokenize import wordpunct_tokenize"
   ]
  },
  {
   "cell_type": "code",
   "execution_count": 24,
   "id": "957d9aa1-2434-4c36-8bd4-e6fabe099855",
   "metadata": {
    "tags": []
   },
   "outputs": [
    {
     "data": {
      "text/plain": [
       "['I',\n",
       " \"'\",\n",
       " 'm',\n",
       " 'studying',\n",
       " 'NLP',\n",
       " '.',\n",
       " 'Have',\n",
       " 'learned',\n",
       " 'about',\n",
       " 'tokenization',\n",
       " '.',\n",
       " 'In',\n",
       " 'this',\n",
       " 'notebook',\n",
       " ',',\n",
       " 'I',\n",
       " \"'\",\n",
       " 'm',\n",
       " 'gonna',\n",
       " 'practice',\n",
       " 'those',\n",
       " 'concepts',\n",
       " '.']"
      ]
     },
     "execution_count": 24,
     "metadata": {},
     "output_type": "execute_result"
    }
   ],
   "source": [
    "wordpunct_tokenize(corpus)"
   ]
  },
  {
   "cell_type": "code",
   "execution_count": 25,
   "id": "cd2925b4-fb59-4fee-945f-a4eb1a01eb88",
   "metadata": {
    "tags": []
   },
   "outputs": [],
   "source": [
    "# another one\n",
    "from nltk.tokenize import TreebankWordTokenizer"
   ]
  },
  {
   "cell_type": "code",
   "execution_count": 27,
   "id": "c493fdc6-2370-415c-8f39-644b0569fae4",
   "metadata": {
    "tags": []
   },
   "outputs": [],
   "source": [
    "tokenizer=TreebankWordTokenizer()"
   ]
  },
  {
   "cell_type": "code",
   "execution_count": 28,
   "id": "7a1e598c-36b3-4f6d-ab97-65fe7a125d2d",
   "metadata": {
    "tags": []
   },
   "outputs": [
    {
     "data": {
      "text/plain": [
       "['I',\n",
       " \"'m\",\n",
       " 'studying',\n",
       " 'NLP.',\n",
       " 'Have',\n",
       " 'learned',\n",
       " 'about',\n",
       " 'tokenization.',\n",
       " 'In',\n",
       " 'this',\n",
       " 'notebook',\n",
       " ',',\n",
       " 'I',\n",
       " \"'m\",\n",
       " 'gon',\n",
       " 'na',\n",
       " 'practice',\n",
       " 'those',\n",
       " 'concepts',\n",
       " '.']"
      ]
     },
     "execution_count": 28,
     "metadata": {},
     "output_type": "execute_result"
    }
   ],
   "source": [
    "tokenizer.tokenize(corpus)"
   ]
  },
  {
   "cell_type": "code",
   "execution_count": null,
   "id": "04f16e41-df0b-4218-8dc6-df72d5e25615",
   "metadata": {},
   "outputs": [],
   "source": []
  }
 ],
 "metadata": {
  "kernelspec": {
   "display_name": "Python 3 (ipykernel)",
   "language": "python",
   "name": "python3"
  },
  "language_info": {
   "codemirror_mode": {
    "name": "ipython",
    "version": 3
   },
   "file_extension": ".py",
   "mimetype": "text/x-python",
   "name": "python",
   "nbconvert_exporter": "python",
   "pygments_lexer": "ipython3",
   "version": "3.11.3"
  }
 },
 "nbformat": 4,
 "nbformat_minor": 5
}
