{
 "cells": [
  {
   "cell_type": "markdown",
   "id": "3fee413f-3778-481f-8600-8a5b9ba97588",
   "metadata": {},
   "source": [
    "$Stem$: A stem is a derived form obtained by removing affixes (prefixes and suffixes) from a word. Think of it as a rough chop of a word to its basic form.\n",
    "\n",
    "$Lemma$: A lemma, on the other hand, is the dictionary form of a word, considering its grammatical context and part of speech. Unlike stems, lemmas are always actual words. So, it's a more refined and accurate representation of the word's core meaning."
   ]
  },
  {
   "cell_type": "markdown",
   "id": "a2dd5452-d6aa-4a03-858e-45fb345b6fde",
   "metadata": {},
   "source": [
    "### Wordnet Lemmatizer"
   ]
  },
  {
   "cell_type": "code",
   "execution_count": 5,
   "id": "16b70915-8d7f-4d3d-a84e-40e96cb1b8d9",
   "metadata": {
    "tags": []
   },
   "outputs": [
    {
     "name": "stderr",
     "output_type": "stream",
     "text": [
      "[nltk_data] Downloading package wordnet to\n",
      "[nltk_data]     C:\\Users\\Mazed\\AppData\\Roaming\\nltk_data...\n"
     ]
    },
    {
     "data": {
      "text/plain": [
       "True"
      ]
     },
     "execution_count": 5,
     "metadata": {},
     "output_type": "execute_result"
    }
   ],
   "source": [
    "import nltk\n",
    "nltk.download('wordnet')"
   ]
  },
  {
   "cell_type": "code",
   "execution_count": 8,
   "id": "f1e467a5-5df4-4140-bf21-bb5bd3ffee04",
   "metadata": {
    "tags": []
   },
   "outputs": [
    {
     "name": "stderr",
     "output_type": "stream",
     "text": [
      "[nltk_data] Downloading package omw-1.4 to\n",
      "[nltk_data]     C:\\Users\\Mazed\\AppData\\Roaming\\nltk_data...\n"
     ]
    },
    {
     "data": {
      "text/plain": [
       "True"
      ]
     },
     "execution_count": 8,
     "metadata": {},
     "output_type": "execute_result"
    }
   ],
   "source": [
    "nltk.download('omw-1.4')"
   ]
  },
  {
   "cell_type": "code",
   "execution_count": 6,
   "id": "872923f3-6a08-4dce-8530-f0c5b2ba8bf8",
   "metadata": {
    "tags": []
   },
   "outputs": [],
   "source": [
    "from nltk.stem import WordNetLemmatizer"
   ]
  },
  {
   "cell_type": "code",
   "execution_count": 2,
   "id": "ad876fb7-4598-48d6-bb4a-1d74a28acf75",
   "metadata": {
    "tags": []
   },
   "outputs": [],
   "source": [
    "lemmatizer= WordNetLemmatizer()"
   ]
  },
  {
   "cell_type": "code",
   "execution_count": 9,
   "id": "154f79d2-183c-432a-a79e-f19f7f0a1e24",
   "metadata": {
    "tags": []
   },
   "outputs": [
    {
     "data": {
      "text/plain": [
       "'going'"
      ]
     },
     "execution_count": 9,
     "metadata": {},
     "output_type": "execute_result"
    }
   ],
   "source": [
    "lemmatizer.lemmatize(\"going\")"
   ]
  },
  {
   "cell_type": "code",
   "execution_count": 10,
   "id": "58c7d50a-a327-4e66-b538-be7f2c1cab4f",
   "metadata": {
    "tags": []
   },
   "outputs": [
    {
     "data": {
      "text/plain": [
       "'go'"
      ]
     },
     "execution_count": 10,
     "metadata": {},
     "output_type": "execute_result"
    }
   ],
   "source": [
    "'''\n",
    "POS: Noun-n\n",
    "verb-v\n",
    "adjective-a\n",
    "adverb-a\n",
    "'''\n",
    "\n",
    "lemmatizer.lemmatize(\"going\", pos='v')"
   ]
  },
  {
   "cell_type": "code",
   "execution_count": 11,
   "id": "a5501c4c-fee0-497c-abba-380f81a8148e",
   "metadata": {
    "tags": []
   },
   "outputs": [],
   "source": [
    "words=[\"eating\", \"eats\", \"eaten\", \"writing\", \"writes\", \"programming\", \"programs\", \"history\", \"finally\", \"finalize\"]"
   ]
  },
  {
   "cell_type": "code",
   "execution_count": 13,
   "id": "93588eec-a932-48ea-ab14-80153f1564b8",
   "metadata": {
    "tags": []
   },
   "outputs": [
    {
     "name": "stdout",
     "output_type": "stream",
     "text": [
      "eating--->eat\n",
      "eats--->eat\n",
      "eaten--->eat\n",
      "writing--->write\n",
      "writes--->write\n",
      "programming--->program\n",
      "programs--->program\n",
      "history--->history\n",
      "finally--->finally\n",
      "finalize--->finalize\n"
     ]
    }
   ],
   "source": [
    "for word in words:\n",
    "    print(word+\"--->\"+lemmatizer.lemmatize(word,pos='v'))"
   ]
  },
  {
   "cell_type": "code",
   "execution_count": 16,
   "id": "b7f0cf5c-510f-411e-a92e-6f335633528b",
   "metadata": {
    "tags": []
   },
   "outputs": [
    {
     "data": {
      "text/plain": [
       "'fairly'"
      ]
     },
     "execution_count": 16,
     "metadata": {},
     "output_type": "execute_result"
    }
   ],
   "source": [
    "lemmatizer.lemmatize(\"fairly\", pos='n')"
   ]
  },
  {
   "cell_type": "markdown",
   "id": "3822be71-4b30-4f2b-817c-23841b4bf5c3",
   "metadata": {},
   "source": [
    "Lemmatization is preffered over Stemming. But lemmatization requires more computation and time."
   ]
  },
  {
   "cell_type": "code",
   "execution_count": null,
   "id": "74b5378e-aa86-4b24-a789-5cdac4434580",
   "metadata": {},
   "outputs": [],
   "source": []
  }
 ],
 "metadata": {
  "kernelspec": {
   "display_name": "Python 3 (ipykernel)",
   "language": "python",
   "name": "python3"
  },
  "language_info": {
   "codemirror_mode": {
    "name": "ipython",
    "version": 3
   },
   "file_extension": ".py",
   "mimetype": "text/x-python",
   "name": "python",
   "nbconvert_exporter": "python",
   "pygments_lexer": "ipython3",
   "version": "3.11.3"
  }
 },
 "nbformat": 4,
 "nbformat_minor": 5
}
